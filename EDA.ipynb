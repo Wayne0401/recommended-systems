{
 "cells": [
  {
   "cell_type": "markdown",
   "id": "18a19e94-91a6-4b20-9413-843d88bdc760",
   "metadata": {},
   "source": [
    "# **Exploratory Data Analysis on Online Course Enrollment Data**\n"
   ]
  },
  {
   "cell_type": "markdown",
   "id": "c96b9a3d-00c2-415c-919a-0b416860f174",
   "metadata": {},
   "source": [
    "Before we keep our heads down building a cool personalized online courses recommender system, we always need to take a look at data first since it is the essence of any machine learning system. We need to explore what kind of data we will need and what such data would look like.\n"
   ]
  },
  {
   "cell_type": "markdown",
   "id": "6db2da18-f3aa-49fd-a837-bd05a89d3b3e",
   "metadata": {},
   "source": [
    "You have already learned it is important to perform initial investigations on the data and how to perform exploratory data analysis to find preliminary insights such as data patterns and to check assumptions with the help of summary statistics and graphical representations. \n",
    "\n",
    "Now, let's apply your EDA skills to online courses related datasets such as course titles/genres and course enrollments. \n"
   ]
  },
  {
   "cell_type": "markdown",
   "id": "81e0626a-eeb8-4136-9c38-422f267fcc26",
   "metadata": {},
   "source": [
    "## Objectives\n"
   ]
  },
  {
   "cell_type": "markdown",
   "id": "20b2c4b5-107f-4a47-9c5c-ecc665b0f441",
   "metadata": {},
   "source": [
    "After completing this lab you will be able to:\n"
   ]
  },
  {
   "cell_type": "markdown",
   "id": "e129da1d-0496-4cb0-83f6-21ffd93d1a75",
   "metadata": {},
   "source": [
    "* Identify keywords in course titles using a WordCloud\n",
    "* Calculate the summary statistics and visualizations of the online course content dataset\n",
    "* Determine popular course genres\n",
    "* Calculate the summary statistics and create visualizations of the online course enrollment dataset\n",
    "* Identify courses with the greatest number of enrolled students\n"
   ]
  },
  {
   "cell_type": "markdown",
   "id": "9023732f-89a7-4466-9906-d4925f08b241",
   "metadata": {},
   "source": [
    "## Prepare and setup the lab environment\n"
   ]
  },
  {
   "cell_type": "markdown",
   "id": "8871a7bd-fba5-40f0-979a-6bed83d2bbb3",
   "metadata": {},
   "source": [
    "At the beginning, we need to install two required Python packages:\n"
   ]
  },
  {
   "cell_type": "code",
   "execution_count": 1,
   "id": "a190b2c0-0722-4cfc-a7ac-046be5962172",
   "metadata": {},
   "outputs": [
    {
     "name": "stdout",
     "output_type": "stream",
     "text": [
      "Collecting seaborn\n",
      "  Downloading seaborn-0.13.2-py3-none-any.whl.metadata (5.4 kB)\n",
      "Collecting numpy!=1.24.0,>=1.20 (from seaborn)\n",
      "  Downloading numpy-2.2.3-cp312-cp312-manylinux_2_17_x86_64.manylinux2014_x86_64.whl.metadata (62 kB)\n",
      "Collecting pandas>=1.2 (from seaborn)\n",
      "  Downloading pandas-2.2.3-cp312-cp312-manylinux_2_17_x86_64.manylinux2014_x86_64.whl.metadata (89 kB)\n",
      "Collecting matplotlib!=3.6.1,>=3.4 (from seaborn)\n",
      "  Downloading matplotlib-3.10.1-cp312-cp312-manylinux_2_17_x86_64.manylinux2014_x86_64.whl.metadata (11 kB)\n",
      "Collecting contourpy>=1.0.1 (from matplotlib!=3.6.1,>=3.4->seaborn)\n",
      "  Downloading contourpy-1.3.1-cp312-cp312-manylinux_2_17_x86_64.manylinux2014_x86_64.whl.metadata (5.4 kB)\n",
      "Collecting cycler>=0.10 (from matplotlib!=3.6.1,>=3.4->seaborn)\n",
      "  Downloading cycler-0.12.1-py3-none-any.whl.metadata (3.8 kB)\n",
      "Collecting fonttools>=4.22.0 (from matplotlib!=3.6.1,>=3.4->seaborn)\n",
      "  Downloading fonttools-4.56.0-cp312-cp312-manylinux_2_5_x86_64.manylinux1_x86_64.manylinux_2_17_x86_64.manylinux2014_x86_64.whl.metadata (101 kB)\n",
      "Collecting kiwisolver>=1.3.1 (from matplotlib!=3.6.1,>=3.4->seaborn)\n",
      "  Downloading kiwisolver-1.4.8-cp312-cp312-manylinux_2_17_x86_64.manylinux2014_x86_64.whl.metadata (6.2 kB)\n",
      "Requirement already satisfied: packaging>=20.0 in /opt/conda/lib/python3.12/site-packages (from matplotlib!=3.6.1,>=3.4->seaborn) (24.2)\n",
      "Collecting pillow>=8 (from matplotlib!=3.6.1,>=3.4->seaborn)\n",
      "  Downloading pillow-11.1.0-cp312-cp312-manylinux_2_28_x86_64.whl.metadata (9.1 kB)\n",
      "Collecting pyparsing>=2.3.1 (from matplotlib!=3.6.1,>=3.4->seaborn)\n",
      "  Downloading pyparsing-3.2.1-py3-none-any.whl.metadata (5.0 kB)\n",
      "Requirement already satisfied: python-dateutil>=2.7 in /opt/conda/lib/python3.12/site-packages (from matplotlib!=3.6.1,>=3.4->seaborn) (2.9.0.post0)\n",
      "Requirement already satisfied: pytz>=2020.1 in /opt/conda/lib/python3.12/site-packages (from pandas>=1.2->seaborn) (2024.2)\n",
      "Collecting tzdata>=2022.7 (from pandas>=1.2->seaborn)\n",
      "  Downloading tzdata-2025.1-py2.py3-none-any.whl.metadata (1.4 kB)\n",
      "Requirement already satisfied: six>=1.5 in /opt/conda/lib/python3.12/site-packages (from python-dateutil>=2.7->matplotlib!=3.6.1,>=3.4->seaborn) (1.17.0)\n",
      "Downloading seaborn-0.13.2-py3-none-any.whl (294 kB)\n",
      "Downloading matplotlib-3.10.1-cp312-cp312-manylinux_2_17_x86_64.manylinux2014_x86_64.whl (8.6 MB)\n",
      "\u001b[2K   \u001b[90m━━━━━━━━━━━━━━━━━━━━━━━━━━━━━━━━━━━━━━━━\u001b[0m \u001b[32m8.6/8.6 MB\u001b[0m \u001b[31m146.3 MB/s\u001b[0m eta \u001b[36m0:00:00\u001b[0m\n",
      "\u001b[?25hDownloading numpy-2.2.3-cp312-cp312-manylinux_2_17_x86_64.manylinux2014_x86_64.whl (16.1 MB)\n",
      "\u001b[2K   \u001b[90m━━━━━━━━━━━━━━━━━━━━━━━━━━━━━━━━━━━━━━━━\u001b[0m \u001b[32m16.1/16.1 MB\u001b[0m \u001b[31m163.7 MB/s\u001b[0m eta \u001b[36m0:00:00\u001b[0m\n",
      "\u001b[?25hDownloading pandas-2.2.3-cp312-cp312-manylinux_2_17_x86_64.manylinux2014_x86_64.whl (12.7 MB)\n",
      "\u001b[2K   \u001b[90m━━━━━━━━━━━━━━━━━━━━━━━━━━━━━━━━━━━━━━━━\u001b[0m \u001b[32m12.7/12.7 MB\u001b[0m \u001b[31m189.5 MB/s\u001b[0m eta \u001b[36m0:00:00\u001b[0m\n",
      "\u001b[?25hDownloading contourpy-1.3.1-cp312-cp312-manylinux_2_17_x86_64.manylinux2014_x86_64.whl (323 kB)\n",
      "Downloading cycler-0.12.1-py3-none-any.whl (8.3 kB)\n",
      "Downloading fonttools-4.56.0-cp312-cp312-manylinux_2_5_x86_64.manylinux1_x86_64.manylinux_2_17_x86_64.manylinux2014_x86_64.whl (4.9 MB)\n",
      "\u001b[2K   \u001b[90m━━━━━━━━━━━━━━━━━━━━━━━━━━━━━━━━━━━━━━━━\u001b[0m \u001b[32m4.9/4.9 MB\u001b[0m \u001b[31m157.0 MB/s\u001b[0m eta \u001b[36m0:00:00\u001b[0m\n",
      "\u001b[?25hDownloading kiwisolver-1.4.8-cp312-cp312-manylinux_2_17_x86_64.manylinux2014_x86_64.whl (1.5 MB)\n",
      "\u001b[2K   \u001b[90m━━━━━━━━━━━━━━━━━━━━━━━━━━━━━━━━━━━━━━━━\u001b[0m \u001b[32m1.5/1.5 MB\u001b[0m \u001b[31m85.5 MB/s\u001b[0m eta \u001b[36m0:00:00\u001b[0m\n",
      "Downloading pillow-11.1.0-cp312-cp312-manylinux_2_28_x86_64.whl (4.5 MB)\n",
      "\u001b[2K   \u001b[90m━━━━━━━━━━━━━━━━━━━━━━━━━━━━━━━━━━━━━━━━\u001b[0m \u001b[32m4.5/4.5 MB\u001b[0m \u001b[31m140.2 MB/s\u001b[0m eta \u001b[36m0:00:00\u001b[0m\n",
      "\u001b[?25hDownloading pyparsing-3.2.1-py3-none-any.whl (107 kB)\n",
      "Downloading tzdata-2025.1-py2.py3-none-any.whl (346 kB)\n",
      "Installing collected packages: tzdata, pyparsing, pillow, numpy, kiwisolver, fonttools, cycler, pandas, contourpy, matplotlib, seaborn\n",
      "Successfully installed contourpy-1.3.1 cycler-0.12.1 fonttools-4.56.0 kiwisolver-1.4.8 matplotlib-3.10.1 numpy-2.2.3 pandas-2.2.3 pillow-11.1.0 pyparsing-3.2.1 seaborn-0.13.2 tzdata-2025.1\n",
      "Collecting wordcloud\n",
      "  Downloading wordcloud-1.9.4-cp312-cp312-manylinux_2_17_x86_64.manylinux2014_x86_64.whl.metadata (3.4 kB)\n",
      "Requirement already satisfied: numpy>=1.6.1 in /opt/conda/lib/python3.12/site-packages (from wordcloud) (2.2.3)\n",
      "Requirement already satisfied: pillow in /opt/conda/lib/python3.12/site-packages (from wordcloud) (11.1.0)\n",
      "Requirement already satisfied: matplotlib in /opt/conda/lib/python3.12/site-packages (from wordcloud) (3.10.1)\n",
      "Requirement already satisfied: contourpy>=1.0.1 in /opt/conda/lib/python3.12/site-packages (from matplotlib->wordcloud) (1.3.1)\n",
      "Requirement already satisfied: cycler>=0.10 in /opt/conda/lib/python3.12/site-packages (from matplotlib->wordcloud) (0.12.1)\n",
      "Requirement already satisfied: fonttools>=4.22.0 in /opt/conda/lib/python3.12/site-packages (from matplotlib->wordcloud) (4.56.0)\n",
      "Requirement already satisfied: kiwisolver>=1.3.1 in /opt/conda/lib/python3.12/site-packages (from matplotlib->wordcloud) (1.4.8)\n",
      "Requirement already satisfied: packaging>=20.0 in /opt/conda/lib/python3.12/site-packages (from matplotlib->wordcloud) (24.2)\n",
      "Requirement already satisfied: pyparsing>=2.3.1 in /opt/conda/lib/python3.12/site-packages (from matplotlib->wordcloud) (3.2.1)\n",
      "Requirement already satisfied: python-dateutil>=2.7 in /opt/conda/lib/python3.12/site-packages (from matplotlib->wordcloud) (2.9.0.post0)\n",
      "Requirement already satisfied: six>=1.5 in /opt/conda/lib/python3.12/site-packages (from python-dateutil>=2.7->matplotlib->wordcloud) (1.17.0)\n",
      "Downloading wordcloud-1.9.4-cp312-cp312-manylinux_2_17_x86_64.manylinux2014_x86_64.whl (539 kB)\n",
      "\u001b[2K   \u001b[90m━━━━━━━━━━━━━━━━━━━━━━━━━━━━━━━━━━━━━━━━\u001b[0m \u001b[32m539.2/539.2 kB\u001b[0m \u001b[31m19.6 MB/s\u001b[0m eta \u001b[36m0:00:00\u001b[0m\n",
      "Installing collected packages: wordcloud\n",
      "Successfully installed wordcloud-1.9.4\n",
      "Requirement already satisfied: pandas in /opt/conda/lib/python3.12/site-packages (2.2.3)\n",
      "Requirement already satisfied: numpy>=1.26.0 in /opt/conda/lib/python3.12/site-packages (from pandas) (2.2.3)\n",
      "Requirement already satisfied: python-dateutil>=2.8.2 in /opt/conda/lib/python3.12/site-packages (from pandas) (2.9.0.post0)\n",
      "Requirement already satisfied: pytz>=2020.1 in /opt/conda/lib/python3.12/site-packages (from pandas) (2024.2)\n",
      "Requirement already satisfied: tzdata>=2022.7 in /opt/conda/lib/python3.12/site-packages (from pandas) (2025.1)\n",
      "Requirement already satisfied: six>=1.5 in /opt/conda/lib/python3.12/site-packages (from python-dateutil>=2.8.2->pandas) (1.17.0)\n",
      "Requirement already satisfied: matplotlib in /opt/conda/lib/python3.12/site-packages (3.10.1)\n",
      "Requirement already satisfied: contourpy>=1.0.1 in /opt/conda/lib/python3.12/site-packages (from matplotlib) (1.3.1)\n",
      "Requirement already satisfied: cycler>=0.10 in /opt/conda/lib/python3.12/site-packages (from matplotlib) (0.12.1)\n",
      "Requirement already satisfied: fonttools>=4.22.0 in /opt/conda/lib/python3.12/site-packages (from matplotlib) (4.56.0)\n",
      "Requirement already satisfied: kiwisolver>=1.3.1 in /opt/conda/lib/python3.12/site-packages (from matplotlib) (1.4.8)\n",
      "Requirement already satisfied: numpy>=1.23 in /opt/conda/lib/python3.12/site-packages (from matplotlib) (2.2.3)\n",
      "Requirement already satisfied: packaging>=20.0 in /opt/conda/lib/python3.12/site-packages (from matplotlib) (24.2)\n",
      "Requirement already satisfied: pillow>=8 in /opt/conda/lib/python3.12/site-packages (from matplotlib) (11.1.0)\n",
      "Requirement already satisfied: pyparsing>=2.3.1 in /opt/conda/lib/python3.12/site-packages (from matplotlib) (3.2.1)\n",
      "Requirement already satisfied: python-dateutil>=2.7 in /opt/conda/lib/python3.12/site-packages (from matplotlib) (2.9.0.post0)\n",
      "Requirement already satisfied: six>=1.5 in /opt/conda/lib/python3.12/site-packages (from python-dateutil>=2.7->matplotlib) (1.17.0)\n"
     ]
    }
   ],
   "source": [
    "!pip install seaborn\n",
    "!pip install wordcloud\n",
    "!pip install pandas\n",
    "!pip install matplotlib"
   ]
  },
  {
   "cell_type": "markdown",
   "id": "625fbe64-ce21-4264-9bad-14c92adbe7ba",
   "metadata": {},
   "source": [
    "and import necessary class/methods in the packages\n"
   ]
  },
  {
   "cell_type": "code",
   "execution_count": 55,
   "id": "950e171e-8fd6-4767-bec5-07226618fc7b",
   "metadata": {},
   "outputs": [],
   "source": [
    "import pandas as pd\n",
    "import numpy as np\n",
    "import matplotlib.pyplot as plt\n",
    "import seaborn as sns\n",
    "from wordcloud import WordCloud, STOPWORDS, ImageColorGenerator\n",
    "\n",
    "%matplotlib inline"
   ]
  },
  {
   "cell_type": "code",
   "execution_count": 56,
   "id": "20efd84d-0aef-4798-b280-881ef9cafd52",
   "metadata": {},
   "outputs": [],
   "source": [
    "# also set a random state\n",
    "rs = 123"
   ]
  },
  {
   "cell_type": "markdown",
   "id": "798fb425-73a3-4424-a3cb-ebd4cd192d18",
   "metadata": {},
   "source": [
    "### Load and explore the dataset\n"
   ]
  },
  {
   "cell_type": "markdown",
   "id": "ff837ffa-1cd8-402e-a4fc-32af28501d9c",
   "metadata": {},
   "source": [
    "First, let's load the datasets as `Pandas` dataframes and start some basic exploratory data analysis tasks on them.\n"
   ]
  },
  {
   "cell_type": "code",
   "execution_count": 57,
   "id": "399e73e0-93c9-4e80-842f-580328b10e68",
   "metadata": {},
   "outputs": [],
   "source": [
    "# Point to the datasets stored on the cloud\n",
    "course_genre_url = \"https://cf-courses-data.s3.us.cloud-object-storage.appdomain.cloud/IBM-ML321EN-SkillsNetwork/labs/datasets/course_genre.csv\"\n",
    "ratings_url = \"https://cf-courses-data.s3.us.cloud-object-storage.appdomain.cloud/IBMSkillsNetwork-ML0321EN-Coursera/labs/v2/module_3/ratings.csv\""
   ]
  },
  {
   "cell_type": "code",
   "execution_count": 154,
   "id": "d0b87397-3aeb-41da-a527-a867b4204ff7",
   "metadata": {},
   "outputs": [],
   "source": [
    "course_df = pd.read_csv(course_genre_url)\n",
    "ratings_df = pd.read_csv(ratings_url)"
   ]
  },
  {
   "cell_type": "markdown",
   "id": "5e05e174-4d2a-41c3-9adb-9d1762722dd3",
   "metadata": {},
   "source": [
    "We will start by exploring the course genre dataset. Let's first check its columns/features name:\n"
   ]
  },
  {
   "cell_type": "code",
   "execution_count": 59,
   "id": "ea9fcdac-efaa-4c5b-b8a2-50bb00a95176",
   "metadata": {},
   "outputs": [
    {
     "data": {
      "text/plain": [
       "Index(['COURSE_ID', 'TITLE', 'Database', 'Python', 'CloudComputing',\n",
       "       'DataAnalysis', 'Containers', 'MachineLearning', 'ComputerVision',\n",
       "       'DataScience', 'BigData', 'Chatbot', 'R', 'BackendDev', 'FrontendDev',\n",
       "       'Blockchain'],\n",
       "      dtype='object')"
      ]
     },
     "execution_count": 59,
     "metadata": {},
     "output_type": "execute_result"
    }
   ],
   "source": [
    "course_df.columns"
   ]
  },
  {
   "cell_type": "markdown",
   "id": "a1e7aeea-2671-4aab-8195-e0b690e71dd4",
   "metadata": {},
   "source": [
    "We can see from the above cell output that the columns represent some metadata about a course such as its id, title, and genres. We can see that the course genres are some popular topics related to machine learning, databases, app developments, etc.\n"
   ]
  },
  {
   "cell_type": "markdown",
   "id": "d17cd347-e202-4dc8-9379-4da2aa6f064b",
   "metadata": {},
   "source": [
    "We can also check how many unique courses we have in this dataset:\n"
   ]
  },
  {
   "cell_type": "code",
   "execution_count": 60,
   "id": "5db76bff-e3d1-4ce8-af19-3c72cdde892d",
   "metadata": {},
   "outputs": [
    {
     "data": {
      "text/plain": [
       "307"
      ]
     },
     "execution_count": 60,
     "metadata": {},
     "output_type": "execute_result"
    }
   ],
   "source": [
    "course_df.shape[0]"
   ]
  },
  {
   "cell_type": "markdown",
   "id": "9d7aa33a-280b-4eba-9167-01d2de002cf7",
   "metadata": {},
   "source": [
    "Then we can take a quick look at its header rows\n"
   ]
  },
  {
   "cell_type": "code",
   "execution_count": 61,
   "id": "5f891847-d6f8-4a3b-8bdf-ccef27c022de",
   "metadata": {},
   "outputs": [
    {
     "data": {
      "text/html": [
       "<div>\n",
       "<style scoped>\n",
       "    .dataframe tbody tr th:only-of-type {\n",
       "        vertical-align: middle;\n",
       "    }\n",
       "\n",
       "    .dataframe tbody tr th {\n",
       "        vertical-align: top;\n",
       "    }\n",
       "\n",
       "    .dataframe thead th {\n",
       "        text-align: right;\n",
       "    }\n",
       "</style>\n",
       "<table border=\"1\" class=\"dataframe\">\n",
       "  <thead>\n",
       "    <tr style=\"text-align: right;\">\n",
       "      <th></th>\n",
       "      <th>COURSE_ID</th>\n",
       "      <th>TITLE</th>\n",
       "      <th>Database</th>\n",
       "      <th>Python</th>\n",
       "      <th>CloudComputing</th>\n",
       "      <th>DataAnalysis</th>\n",
       "      <th>Containers</th>\n",
       "      <th>MachineLearning</th>\n",
       "      <th>ComputerVision</th>\n",
       "      <th>DataScience</th>\n",
       "      <th>BigData</th>\n",
       "      <th>Chatbot</th>\n",
       "      <th>R</th>\n",
       "      <th>BackendDev</th>\n",
       "      <th>FrontendDev</th>\n",
       "      <th>Blockchain</th>\n",
       "    </tr>\n",
       "  </thead>\n",
       "  <tbody>\n",
       "    <tr>\n",
       "      <th>0</th>\n",
       "      <td>ML0201EN</td>\n",
       "      <td>robots are coming  build iot apps with watson ...</td>\n",
       "      <td>0</td>\n",
       "      <td>0</td>\n",
       "      <td>0</td>\n",
       "      <td>0</td>\n",
       "      <td>0</td>\n",
       "      <td>0</td>\n",
       "      <td>0</td>\n",
       "      <td>0</td>\n",
       "      <td>0</td>\n",
       "      <td>0</td>\n",
       "      <td>0</td>\n",
       "      <td>1</td>\n",
       "      <td>1</td>\n",
       "      <td>0</td>\n",
       "    </tr>\n",
       "    <tr>\n",
       "      <th>1</th>\n",
       "      <td>ML0122EN</td>\n",
       "      <td>accelerating deep learning with gpu</td>\n",
       "      <td>0</td>\n",
       "      <td>1</td>\n",
       "      <td>0</td>\n",
       "      <td>0</td>\n",
       "      <td>0</td>\n",
       "      <td>1</td>\n",
       "      <td>0</td>\n",
       "      <td>1</td>\n",
       "      <td>0</td>\n",
       "      <td>0</td>\n",
       "      <td>0</td>\n",
       "      <td>0</td>\n",
       "      <td>0</td>\n",
       "      <td>0</td>\n",
       "    </tr>\n",
       "    <tr>\n",
       "      <th>2</th>\n",
       "      <td>GPXX0ZG0EN</td>\n",
       "      <td>consuming restful services using the reactive ...</td>\n",
       "      <td>0</td>\n",
       "      <td>0</td>\n",
       "      <td>0</td>\n",
       "      <td>0</td>\n",
       "      <td>0</td>\n",
       "      <td>0</td>\n",
       "      <td>0</td>\n",
       "      <td>0</td>\n",
       "      <td>0</td>\n",
       "      <td>0</td>\n",
       "      <td>0</td>\n",
       "      <td>1</td>\n",
       "      <td>1</td>\n",
       "      <td>0</td>\n",
       "    </tr>\n",
       "    <tr>\n",
       "      <th>3</th>\n",
       "      <td>RP0105EN</td>\n",
       "      <td>analyzing big data in r using apache spark</td>\n",
       "      <td>1</td>\n",
       "      <td>0</td>\n",
       "      <td>0</td>\n",
       "      <td>1</td>\n",
       "      <td>0</td>\n",
       "      <td>0</td>\n",
       "      <td>0</td>\n",
       "      <td>0</td>\n",
       "      <td>1</td>\n",
       "      <td>0</td>\n",
       "      <td>1</td>\n",
       "      <td>0</td>\n",
       "      <td>0</td>\n",
       "      <td>0</td>\n",
       "    </tr>\n",
       "    <tr>\n",
       "      <th>4</th>\n",
       "      <td>GPXX0Z2PEN</td>\n",
       "      <td>containerizing  packaging  and running a sprin...</td>\n",
       "      <td>0</td>\n",
       "      <td>0</td>\n",
       "      <td>0</td>\n",
       "      <td>0</td>\n",
       "      <td>1</td>\n",
       "      <td>0</td>\n",
       "      <td>0</td>\n",
       "      <td>0</td>\n",
       "      <td>0</td>\n",
       "      <td>0</td>\n",
       "      <td>0</td>\n",
       "      <td>1</td>\n",
       "      <td>0</td>\n",
       "      <td>0</td>\n",
       "    </tr>\n",
       "  </tbody>\n",
       "</table>\n",
       "</div>"
      ],
      "text/plain": [
       "    COURSE_ID                                              TITLE  Database  \\\n",
       "0    ML0201EN  robots are coming  build iot apps with watson ...         0   \n",
       "1    ML0122EN                accelerating deep learning with gpu         0   \n",
       "2  GPXX0ZG0EN  consuming restful services using the reactive ...         0   \n",
       "3    RP0105EN         analyzing big data in r using apache spark         1   \n",
       "4  GPXX0Z2PEN  containerizing  packaging  and running a sprin...         0   \n",
       "\n",
       "   Python  CloudComputing  DataAnalysis  Containers  MachineLearning  \\\n",
       "0       0               0             0           0                0   \n",
       "1       1               0             0           0                1   \n",
       "2       0               0             0           0                0   \n",
       "3       0               0             1           0                0   \n",
       "4       0               0             0           1                0   \n",
       "\n",
       "   ComputerVision  DataScience  BigData  Chatbot  R  BackendDev  FrontendDev  \\\n",
       "0               0            0        0        0  0           1            1   \n",
       "1               0            1        0        0  0           0            0   \n",
       "2               0            0        0        0  0           1            1   \n",
       "3               0            0        1        0  1           0            0   \n",
       "4               0            0        0        0  0           1            0   \n",
       "\n",
       "   Blockchain  \n",
       "0           0  \n",
       "1           0  \n",
       "2           0  \n",
       "3           0  \n",
       "4           0  "
      ]
     },
     "execution_count": 61,
     "metadata": {},
     "output_type": "execute_result"
    }
   ],
   "source": [
    "course_df.head()"
   ]
  },
  {
   "cell_type": "code",
   "execution_count": 62,
   "id": "9a773f37-b843-46b1-821c-8443a47d532e",
   "metadata": {},
   "outputs": [
    {
     "data": {
      "text/plain": [
       "COURSE_ID          object\n",
       "TITLE              object\n",
       "Database            int64\n",
       "Python              int64\n",
       "CloudComputing      int64\n",
       "DataAnalysis        int64\n",
       "Containers          int64\n",
       "MachineLearning     int64\n",
       "ComputerVision      int64\n",
       "DataScience         int64\n",
       "BigData             int64\n",
       "Chatbot             int64\n",
       "R                   int64\n",
       "BackendDev          int64\n",
       "FrontendDev         int64\n",
       "Blockchain          int64\n",
       "dtype: object"
      ]
     },
     "execution_count": 62,
     "metadata": {},
     "output_type": "execute_result"
    }
   ],
   "source": [
    "course_df.dtypes"
   ]
  },
  {
   "cell_type": "markdown",
   "id": "c5aba8e3-e341-4cd9-84dc-de84b531e36a",
   "metadata": {},
   "source": [
    "As we can see, the `COURSE_ID` and `TITLE` are `str` datatypes and all the course genres are binary/int datatypes. Any genre column with value 1 means the course is associated with the course genre while 0 means the course is not.\n"
   ]
  },
  {
   "cell_type": "markdown",
   "id": "9b396cdb-0dee-4295-89b9-0c708a62e821",
   "metadata": {},
   "source": [
    "For example, the following course `accelerating deep learning with gpu` is associated with genres `Python`, `MachineLearning`, and `DataScience`\n"
   ]
  },
  {
   "cell_type": "code",
   "execution_count": 63,
   "id": "47ffb981-ddf0-4b89-9617-967e59106d69",
   "metadata": {},
   "outputs": [
    {
     "data": {
      "text/plain": [
       "COURSE_ID                                     ML0122EN\n",
       "TITLE              accelerating deep learning with gpu\n",
       "Database                                             0\n",
       "Python                                               1\n",
       "CloudComputing                                       0\n",
       "DataAnalysis                                         0\n",
       "Containers                                           0\n",
       "MachineLearning                                      1\n",
       "ComputerVision                                       0\n",
       "DataScience                                          1\n",
       "BigData                                              0\n",
       "Chatbot                                              0\n",
       "R                                                    0\n",
       "BackendDev                                           0\n",
       "FrontendDev                                          0\n",
       "Blockchain                                           0\n",
       "Name: 1, dtype: object"
      ]
     },
     "execution_count": 63,
     "metadata": {},
     "output_type": "execute_result"
    }
   ],
   "source": [
    "course_df.iloc[1, ]"
   ]
  },
  {
   "cell_type": "markdown",
   "id": "85537079-703e-47d2-bea5-ae1595838b22",
   "metadata": {},
   "source": [
    "Next, let's focus on the course title column by trying to determine keywords in the titles. Those keywords in the titles may give us a more intuitive summary of what kind of courses we have in the dataset.\n"
   ]
  },
  {
   "cell_type": "markdown",
   "id": "823b2266-1ea9-4278-865a-c2edcfe6b199",
   "metadata": {},
   "source": [
    "### Plot a Word Cloud from Course Titles\n"
   ]
  },
  {
   "cell_type": "markdown",
   "id": "6802c747-10af-4ef8-810f-9f7f7ad4bd45",
   "metadata": {},
   "source": [
    "First, let's join all the title values into one string, then we can conveniently get a wordcloud from the big string:\n"
   ]
  },
  {
   "cell_type": "code",
   "execution_count": 64,
   "id": "a3507900-57cc-4882-be4e-ab81a7a81b26",
   "metadata": {},
   "outputs": [],
   "source": [
    "titles = \" \".join(title for title in course_df['TITLE'].astype(str))"
   ]
  },
  {
   "cell_type": "code",
   "execution_count": 65,
   "id": "2d93773c-a0bb-4fb0-b1db-f33470c365a5",
   "metadata": {},
   "outputs": [
    {
     "data": {
      "text/plain": [
       "'robots are coming  build iot apps with watson  swift  and node red accelerating deep learning with gpu consuming restful services using the reactive jax rs client analyzing big data in r using apache spark containerizing  packaging  and running a spring boot application cloud native security conference  data security data science bootcamp with r for university proffesors learn how to use docker containers for iterative development scorm test course create your first mongodb database testing microservices with the arquillian managed container cloud pak for integration essentials watson analytics for social media data science bootcamp with python for university professors  advance create a cryptocurrency trading algorithm in python data   ai essentials securing java microservices with eclipse microprofile json web token  microprofile jwt  enabling distributed tracing in microservices with zipkin sql access for hadoop ybrid cloud conference  ai pipelines lab dataops methodology data   ai  jumpstart your journey introduction to open source end to end data science on cloudpak for data ai for everyone  master the basics serverless computing using cloud functions   developer i predicting customer satisfaction hybrid cloud conference serverless lab validating constraints for javabeans in java microservices getting started with the data  apache spark makers build predicting financial performance of a company db2 fundamentals i using clustering methods for investment portfolio analysis php web application on a lamp stack fundamentals of javascript through rock paper scissors using r with databases using r with databases spark fundamentals ii data science in insurance  basic statistical analysis  apply end to end security to a cloud application spark overview for scala analytics testing a microprofile or jakarta ee application using microshed testing with an open liberty docker container r 101 text analytics 101 how to build watson ai and swift apis and make money tmp data science bootcamp insurance risk assessment with montecarlo method using apache spark  statistics 201 statistics 301 build swift mobile apps with watson ai services text analysis introduction to machine learning with sound using hbase for real time access to your big data watson analytics 101 insurance business modelling and basic actuarial calculations accessing hadoop data using hive beyond the basics  istio and ibm cloud kubernetes service accelerating deep learning with gpu text analytics 101 text analytics at scale data science bootcamp with python machine learning with apache systemml action classification task based on internet firewall logs container   kubernetes essentials with ibm cloud data science in health care  advanced prognostication using neural networks advanced machine   deep learning for spam classification task visual data analysis in banking secure analysis of credit card dataset data science in health care  advanced machine learning classification network traffic anomaly detection  intrusion detection task  getting started with node js getting started with mysql command line an introduction to ibm cloud satellite introduction to quantum computing launch an ai hotdog detector as a serverless python app exploratory data analysis  eda  with pandas in banking text analytics 101 create tables and load data in mysql using phpmyadmin relational model concepts predictive modeling fundamentals i build an iot blockchain network for a supply chain blockchain essentials getting started with postgresql command line ibm blockchain foundation developer keys and constraints in mysql exploring spark s graphx data science in health care  basic statistical analysis  create tables and load data in postgresql using pgadmin monitoring the metrics of java microservices using eclipse microprofile metrics configuring microservices running in kubernetes game playing ai with swift for tensorflow  s4tf  enabling cross origin resource sharing  cors  in a restful java microservice getting started with db2 on cloud apache pig 101 developing distributed applications using zookeeper controlling hadoop jobs using oozie moving data into hadoop mapreduce and yarn deploy a web server using python and ibm cloud engine acknowledging messages using microprofile reactive messaging build a personal movie recommender with django managing and injecting dependencies into java microservices using contexts and dependency injection  cdi  spark fundamentals i deploying microservices to kubernetes getting started with open liberty consuming restful java microservices asynchronously using eclipse microprofile rest client statistics 101 analyzing big data with a spreadsheet ui openrefine 101 solr 101 deep learning with tensorflow building fault tolerant microservices with the  fallback annotation consuming restful java microservices with template interfaces using eclipse microprofile rest client build chatbots with watson assistant node red  basics to bots normalization   keys   constraints in relational database ibm cloud essentials getting started with microservices with istio and ibm cloud kubernetes service playing tictactoe with reinforcement learning and openai gym deploying a microservice to openshift by using a kubernetes operator data analysis demos data journalism  first steps  skills and tools mathematical optimization for business problems db2 academic training db2 fundamentals ii scalable web applications on kubernetes data analysis using r 101 nosql and dbaas 101 kubernetes operators advanced project  deploy a serverless app for image processing data science career talks data science with open data data science bootcamp with python for university professors bitcoin 101 data science hands on with open source tools data science methodology creating asynchronous java microservices using microprofile reactive messaging build a smart search form with algolia documenting restful apis using microprofile openapi reactive architecture  distributed messaging patterns data science in agriculture  land use classification reactive architecture  cqrs   event sourcing deep learning 101 reactive architecture  reactive microservices reactive architecture  domain driven design building robots with tjbot building cloud native and multicloud applications big data 101 modernizing java ee applications data science in agriculture  prognostication using by neural network docker essentials  a developer introduction accelerating deep learning with gpus reactive architecture  building scalable systems build your own chatbots data science in agriculture  basic statistical analysis and geo visualisation machine learning with python build your own chatbot machine learning   dimensionality reduction machine learning with python consuming a restful java web service using json b and json p an introduction to ibm cloud for financial services data analysis with python testing reactive java microservices using microshed testing framework checking the health of java microservices by using kubernetes readiness and liveness probes scala 101 checking the health of java microservices by using eclipse microprofile health check train a hotdog image recognition model with python externalizing configuration for java microservices using eclipse microprofile config integrating restful services with a reactive system using the cql shell to execute keyspace operations in cassandra performing table and crud operations with cassandra how to create and publish guided projects and hands on labs building a simple restful java microservice using jax rs and json b hybrid cloud conference   backend services for containers transform photos to sketches and paintings with opencv quick introduction to a b testing introduction to data science reactive architecture  introduction to reactive systems data privacy fundamentals consuming a restful java web service with angularjs implement consumer driven contract testing for java microservices using the pact framework hadoop 101 introduction to cloud classification of yelp reviews using sentiment analysis spark mllib ibm cloud essentials   v3 performing database operations in the cloudant dashboard working with databases in ibm cloudant python for data science introduction to containers  kubernetes  and openshift v2 simplifying data pipelines with apache kafka sql and relational databases 101 medical appointment data analysis data visualization with r implementing a graphql microservice using microprofile api to query and update data from multiple services consuming a restful java web service with reactjs building and testing a java web application with maven and open liberty building a hypermedia driven restful java microservice using hypermedia as the engine of application state  hateoas  data visualization with python digital analytics   regression machine learning with r containerizing and running java microservices in docker containers deep learning with tensorflow r for data science accessing and persisting data in microservices using java persistence api  jpa  data science in health care  basic prognostication and geo visualization enabling distributed tracing in java microservices using eclipse microprofile opentracing and the jaeger tracing system  building cloud native and multicloud applications deploy an ai powered discord bot with a voice views in postgresql streaming updates from a microprofile reactive messaging microservice using server sent events  sse  consuming a restful java web service with angular deep learning with tensorflow data science with scala relational database systems business intelligence and data warehousing nosql systems sql for data science \\r\\ndistributed computing with spark sql sql for data science capstone project database management essentials using databases with python process data from dirty to clean database architecture  scale  and nosql with elasticsearch the nature of data and relational database design python scripting  files  inheritance  and databases relational database support for data warehouses introduction to structured query language  sql  crash course on python programming for everybody  getting started with python  python basics python programming  a concise introduction introduction to python programming python and statistics for financial analysis applied machine learning in python introduction to data science in python data analysis using python introduction to cloud computing cloud computing basics  cloud 101  cloud computing foundations cloud computing concepts  part 1 fundamentals of cloud computing cloud computing concepts  part 2 cloud computing applications  part 1  cloud systems and infrastructure cloud computing applications  part 2  big data and applications in the cloud introduction to data analytics excel basics for data analysis introduction to data analysis introduction to predictive modeling data analysis using python data analysis with r programming data analysis with python excel fundamentals for data analysis exploratory data analysis for machine learning introduction to data analysis using excel big data analysis  hive  spark sql  dataframes and graphframes cloud virtualization  containers and apis alibaba cloud native solutions and container service docker  basics machine learning machine learning for all introduction to machine learning  language processing applied machine learning in python build  train  and deploy ml pipelines using bert introduction to machine learning in production machine learning data lifecycle in production deploying machine learning models in production exploratory data analysis for machine learning advanced computer vision with tensorflow deep learning applications for computer vision deep learning in computer vision computer vision basics fundamentals of digital image and video processing introduction to tensorflow for artificial intelligence  machine learning  and deep learning convolutional neural networks in tensorflow introduction to data science in python a crash course in data science data science in real life data science fundamentals for data analysts executive data science capstone introduction to big data big data modeling and management systems machine learning with big data big data   capstone project big data essentials  hdfs  mapreduce and spark rdd foundations for big data analysis with sql analyzing big data with sql fundamentals of big data hadoop platform and application framework working with big data natural language processing with attention models natural language processing with sequence models natural language processing with probabilistic models r programming data analysis with r programming getting started with data visualization in r introduction to probability and data with r using r for regression and machine learning in investment  data visualization in r with ggplot2 the r programming environment html  css  and javascript for web developers javascript basics javascript  jquery  and json programming foundations with javascript  html and css front end web development with react introduction to web development interactivity with javascript and jquery'"
      ]
     },
     "execution_count": 65,
     "metadata": {},
     "output_type": "execute_result"
    }
   ],
   "source": [
    "titles"
   ]
  },
  {
   "cell_type": "markdown",
   "id": "de538eb0-6f1c-497f-9688-6dc482e7fc21",
   "metadata": {},
   "source": [
    "We also want to filter common stop words and some less meaningful words:\n"
   ]
  },
  {
   "cell_type": "code",
   "execution_count": 66,
   "id": "fdc92449-635f-4d56-b0bf-39f713f1fd81",
   "metadata": {},
   "outputs": [],
   "source": [
    "# English Stopwords\n",
    "stopwords = set(STOPWORDS)\n",
    "stopwords.update([\"getting started\", \"using\", \"enabling\", \"template\", \"university\", \"end\", \"introduction\", \"basic\"])"
   ]
  },
  {
   "cell_type": "markdown",
   "id": "5dd71443-2896-4a8e-b55e-98389ee60a9a",
   "metadata": {},
   "source": [
    "Then, we create a ```WordCloud``` object and generate ```wordcloud``` from the titles.\n"
   ]
  },
  {
   "cell_type": "code",
   "execution_count": 67,
   "id": "8bc0ff10-c27d-4090-9af6-3dd26f272798",
   "metadata": {},
   "outputs": [],
   "source": [
    "wordcloud = WordCloud(stopwords=stopwords, background_color=\"white\", width=800, height=400)"
   ]
  },
  {
   "cell_type": "code",
   "execution_count": 68,
   "id": "61290f9c-f742-4d16-9042-5ba273248ee7",
   "metadata": {},
   "outputs": [
    {
     "data": {
      "text/plain": [
       "<wordcloud.wordcloud.WordCloud at 0x7f7e12b450d0>"
      ]
     },
     "execution_count": 68,
     "metadata": {},
     "output_type": "execute_result"
    }
   ],
   "source": [
    "wordcloud.generate(titles)"
   ]
  },
  {
   "cell_type": "markdown",
   "id": "c7e1fab8-df51-45da-acef-dd783ce76321",
   "metadata": {},
   "source": [
    "We can use `plt.imshow()` method to visualize the generated wordcloud:\n"
   ]
  },
  {
   "cell_type": "code",
   "execution_count": 69,
   "id": "10833139-2f87-4fe5-8114-32d4069e783e",
   "metadata": {},
   "outputs": [
    {
     "data": {
      "image/png": "[encoded data removed]",
      "text/plain": [
       "<Figure size 640x480 with 1 Axes>"
      ]
     },
     "metadata": {},
     "output_type": "display_data"
    },
    {
     "data": {
      "text/plain": [
       "<Figure size 4000x2000 with 0 Axes>"
      ]
     },
     "metadata": {},
     "output_type": "display_data"
    }
   ],
   "source": [
    "# Disable axis display\n",
    "plt.axis(\"off\")\n",
    "# Display the word cloud image with bilinear interpolation\n",
    "plt.imshow(wordcloud, interpolation='bilinear')\n",
    "# Create a new figure with a specified size\n",
    "plt.figure(figsize=(40,20))\n",
    "# Adjust the layout to ensure tight spacing\n",
    "plt.tight_layout(pad=0)\n",
    "# Show the plot\n",
    "plt.show()"
   ]
  },
  {
   "cell_type": "markdown",
   "id": "35ddc559-d2d9-44e9-9d3b-e6e7debcefc7",
   "metadata": {},
   "source": [
    "As we can see from the ```wordcloud```,  there are many popular IT related keywords such as python, data science, machine learning, big data, ai, tensorflow, container, cloud, etc. By looking at these keywords, we should have a general understanding that the courses in the dataset are focused on demanding IT skills.\n"
   ]
  },
  {
   "cell_type": "markdown",
   "id": "6e8bd87b-ddbd-4d6a-a84d-01e2b183d4ab",
   "metadata": {},
   "source": [
    "Next, you need to perform some more detailed analysis on the course dataset.\n"
   ]
  },
  {
   "cell_type": "markdown",
   "id": "7b0fb646-38b0-4584-adef-1fe0cca12faf",
   "metadata": {},
   "source": [
    "## TASK: Analyze Course Genres\n"
   ]
  },
  {
   "cell_type": "markdown",
   "id": "fe74d863-a25a-42c4-9460-649088bda688",
   "metadata": {},
   "source": [
    "First, you can try to find out which courses may be of interest you. For example, what are the all machine learning related courses?\n"
   ]
  },
  {
   "cell_type": "markdown",
   "id": "65ae3459-90eb-4060-819c-ffab33258f18",
   "metadata": {},
   "source": [
    "_TODO: Find all courses with genre `MachineLearning` == 1_\n"
   ]
  },
  {
   "cell_type": "code",
   "execution_count": 70,
   "id": "3cfb3685-4257-48d0-ae17-433032f0a634",
   "metadata": {},
   "outputs": [
    {
     "data": {
      "text/plain": [
       "1                    accelerating deep learning with gpu\n",
       "15                                  data   ai essentials\n",
       "19              ybrid cloud conference  ai pipelines lab\n",
       "21                     data   ai  jumpstart your journey\n",
       "24                    ai for everyone  master the basics\n",
       "                             ...                        \n",
       "274          convolutional neural networks in tensorflow\n",
       "282                       machine learning with big data\n",
       "290    natural language processing with attention models\n",
       "291     natural language processing with sequence models\n",
       "292    natural language processing with probabilistic...\n",
       "Name: TITLE, Length: 69, dtype: object"
      ]
     },
     "execution_count": 70,
     "metadata": {},
     "output_type": "execute_result"
    }
   ],
   "source": [
    "course_df[course_df['MachineLearning']==1]['TITLE']"
   ]
  },
  {
   "cell_type": "code",
   "execution_count": 71,
   "id": "916cbe64-b30e-4aed-a319-d4238545bbfd",
   "metadata": {},
   "outputs": [],
   "source": [
    "indexes=course_df['MachineLearning'] == 1"
   ]
  },
  {
   "cell_type": "code",
   "execution_count": 72,
   "id": "ab19046f-f1c2-46ec-a2ad-73588dbffecb",
   "metadata": {},
   "outputs": [
    {
     "data": {
      "text/html": [
       "<div>\n",
       "<style scoped>\n",
       "    .dataframe tbody tr th:only-of-type {\n",
       "        vertical-align: middle;\n",
       "    }\n",
       "\n",
       "    .dataframe tbody tr th {\n",
       "        vertical-align: top;\n",
       "    }\n",
       "\n",
       "    .dataframe thead th {\n",
       "        text-align: right;\n",
       "    }\n",
       "</style>\n",
       "<table border=\"1\" class=\"dataframe\">\n",
       "  <thead>\n",
       "    <tr style=\"text-align: right;\">\n",
       "      <th></th>\n",
       "      <th>COURSE_ID</th>\n",
       "      <th>TITLE</th>\n",
       "      <th>Database</th>\n",
       "      <th>Python</th>\n",
       "      <th>CloudComputing</th>\n",
       "      <th>DataAnalysis</th>\n",
       "      <th>Containers</th>\n",
       "      <th>MachineLearning</th>\n",
       "      <th>ComputerVision</th>\n",
       "      <th>DataScience</th>\n",
       "      <th>BigData</th>\n",
       "      <th>Chatbot</th>\n",
       "      <th>R</th>\n",
       "      <th>BackendDev</th>\n",
       "      <th>FrontendDev</th>\n",
       "      <th>Blockchain</th>\n",
       "    </tr>\n",
       "  </thead>\n",
       "  <tbody>\n",
       "    <tr>\n",
       "      <th>1</th>\n",
       "      <td>ML0122EN</td>\n",
       "      <td>accelerating deep learning with gpu</td>\n",
       "      <td>0</td>\n",
       "      <td>1</td>\n",
       "      <td>0</td>\n",
       "      <td>0</td>\n",
       "      <td>0</td>\n",
       "      <td>1</td>\n",
       "      <td>0</td>\n",
       "      <td>1</td>\n",
       "      <td>0</td>\n",
       "      <td>0</td>\n",
       "      <td>0</td>\n",
       "      <td>0</td>\n",
       "      <td>0</td>\n",
       "      <td>0</td>\n",
       "    </tr>\n",
       "    <tr>\n",
       "      <th>15</th>\n",
       "      <td>DAI101EN</td>\n",
       "      <td>data   ai essentials</td>\n",
       "      <td>0</td>\n",
       "      <td>0</td>\n",
       "      <td>0</td>\n",
       "      <td>0</td>\n",
       "      <td>0</td>\n",
       "      <td>1</td>\n",
       "      <td>0</td>\n",
       "      <td>0</td>\n",
       "      <td>0</td>\n",
       "      <td>0</td>\n",
       "      <td>0</td>\n",
       "      <td>0</td>\n",
       "      <td>0</td>\n",
       "      <td>0</td>\n",
       "    </tr>\n",
       "    <tr>\n",
       "      <th>19</th>\n",
       "      <td>HCC105EN</td>\n",
       "      <td>ybrid cloud conference  ai pipelines lab</td>\n",
       "      <td>0</td>\n",
       "      <td>0</td>\n",
       "      <td>0</td>\n",
       "      <td>0</td>\n",
       "      <td>0</td>\n",
       "      <td>1</td>\n",
       "      <td>0</td>\n",
       "      <td>0</td>\n",
       "      <td>0</td>\n",
       "      <td>0</td>\n",
       "      <td>0</td>\n",
       "      <td>0</td>\n",
       "      <td>0</td>\n",
       "      <td>0</td>\n",
       "    </tr>\n",
       "    <tr>\n",
       "      <th>21</th>\n",
       "      <td>DS0132EN</td>\n",
       "      <td>data   ai  jumpstart your journey</td>\n",
       "      <td>0</td>\n",
       "      <td>0</td>\n",
       "      <td>0</td>\n",
       "      <td>0</td>\n",
       "      <td>0</td>\n",
       "      <td>1</td>\n",
       "      <td>0</td>\n",
       "      <td>0</td>\n",
       "      <td>0</td>\n",
       "      <td>0</td>\n",
       "      <td>0</td>\n",
       "      <td>0</td>\n",
       "      <td>0</td>\n",
       "      <td>0</td>\n",
       "    </tr>\n",
       "    <tr>\n",
       "      <th>24</th>\n",
       "      <td>BENTEST4</td>\n",
       "      <td>ai for everyone  master the basics</td>\n",
       "      <td>0</td>\n",
       "      <td>0</td>\n",
       "      <td>0</td>\n",
       "      <td>0</td>\n",
       "      <td>0</td>\n",
       "      <td>1</td>\n",
       "      <td>0</td>\n",
       "      <td>0</td>\n",
       "      <td>0</td>\n",
       "      <td>0</td>\n",
       "      <td>0</td>\n",
       "      <td>0</td>\n",
       "      <td>0</td>\n",
       "      <td>0</td>\n",
       "    </tr>\n",
       "    <tr>\n",
       "      <th>...</th>\n",
       "      <td>...</td>\n",
       "      <td>...</td>\n",
       "      <td>...</td>\n",
       "      <td>...</td>\n",
       "      <td>...</td>\n",
       "      <td>...</td>\n",
       "      <td>...</td>\n",
       "      <td>...</td>\n",
       "      <td>...</td>\n",
       "      <td>...</td>\n",
       "      <td>...</td>\n",
       "      <td>...</td>\n",
       "      <td>...</td>\n",
       "      <td>...</td>\n",
       "      <td>...</td>\n",
       "      <td>...</td>\n",
       "    </tr>\n",
       "    <tr>\n",
       "      <th>274</th>\n",
       "      <td>excourse61</td>\n",
       "      <td>convolutional neural networks in tensorflow</td>\n",
       "      <td>0</td>\n",
       "      <td>0</td>\n",
       "      <td>0</td>\n",
       "      <td>0</td>\n",
       "      <td>0</td>\n",
       "      <td>1</td>\n",
       "      <td>1</td>\n",
       "      <td>0</td>\n",
       "      <td>0</td>\n",
       "      <td>0</td>\n",
       "      <td>0</td>\n",
       "      <td>0</td>\n",
       "      <td>0</td>\n",
       "      <td>0</td>\n",
       "    </tr>\n",
       "    <tr>\n",
       "      <th>282</th>\n",
       "      <td>excourse69</td>\n",
       "      <td>machine learning with big data</td>\n",
       "      <td>0</td>\n",
       "      <td>0</td>\n",
       "      <td>0</td>\n",
       "      <td>0</td>\n",
       "      <td>0</td>\n",
       "      <td>1</td>\n",
       "      <td>0</td>\n",
       "      <td>0</td>\n",
       "      <td>1</td>\n",
       "      <td>0</td>\n",
       "      <td>0</td>\n",
       "      <td>0</td>\n",
       "      <td>0</td>\n",
       "      <td>0</td>\n",
       "    </tr>\n",
       "    <tr>\n",
       "      <th>290</th>\n",
       "      <td>excourse77</td>\n",
       "      <td>natural language processing with attention models</td>\n",
       "      <td>0</td>\n",
       "      <td>0</td>\n",
       "      <td>0</td>\n",
       "      <td>0</td>\n",
       "      <td>0</td>\n",
       "      <td>1</td>\n",
       "      <td>0</td>\n",
       "      <td>0</td>\n",
       "      <td>0</td>\n",
       "      <td>0</td>\n",
       "      <td>0</td>\n",
       "      <td>0</td>\n",
       "      <td>0</td>\n",
       "      <td>0</td>\n",
       "    </tr>\n",
       "    <tr>\n",
       "      <th>291</th>\n",
       "      <td>excourse78</td>\n",
       "      <td>natural language processing with sequence models</td>\n",
       "      <td>0</td>\n",
       "      <td>0</td>\n",
       "      <td>0</td>\n",
       "      <td>0</td>\n",
       "      <td>0</td>\n",
       "      <td>1</td>\n",
       "      <td>0</td>\n",
       "      <td>0</td>\n",
       "      <td>0</td>\n",
       "      <td>0</td>\n",
       "      <td>0</td>\n",
       "      <td>0</td>\n",
       "      <td>0</td>\n",
       "      <td>0</td>\n",
       "    </tr>\n",
       "    <tr>\n",
       "      <th>292</th>\n",
       "      <td>excourse79</td>\n",
       "      <td>natural language processing with probabilistic...</td>\n",
       "      <td>0</td>\n",
       "      <td>0</td>\n",
       "      <td>0</td>\n",
       "      <td>0</td>\n",
       "      <td>0</td>\n",
       "      <td>1</td>\n",
       "      <td>0</td>\n",
       "      <td>0</td>\n",
       "      <td>0</td>\n",
       "      <td>0</td>\n",
       "      <td>0</td>\n",
       "      <td>0</td>\n",
       "      <td>0</td>\n",
       "      <td>0</td>\n",
       "    </tr>\n",
       "  </tbody>\n",
       "</table>\n",
       "<p>69 rows × 16 columns</p>\n",
       "</div>"
      ],
      "text/plain": [
       "      COURSE_ID                                              TITLE  Database  \\\n",
       "1      ML0122EN                accelerating deep learning with gpu         0   \n",
       "15     DAI101EN                               data   ai essentials         0   \n",
       "19     HCC105EN           ybrid cloud conference  ai pipelines lab         0   \n",
       "21     DS0132EN                  data   ai  jumpstart your journey         0   \n",
       "24     BENTEST4                 ai for everyone  master the basics         0   \n",
       "..          ...                                                ...       ...   \n",
       "274  excourse61        convolutional neural networks in tensorflow         0   \n",
       "282  excourse69                     machine learning with big data         0   \n",
       "290  excourse77  natural language processing with attention models         0   \n",
       "291  excourse78   natural language processing with sequence models         0   \n",
       "292  excourse79  natural language processing with probabilistic...         0   \n",
       "\n",
       "     Python  CloudComputing  DataAnalysis  Containers  MachineLearning  \\\n",
       "1         1               0             0           0                1   \n",
       "15        0               0             0           0                1   \n",
       "19        0               0             0           0                1   \n",
       "21        0               0             0           0                1   \n",
       "24        0               0             0           0                1   \n",
       "..      ...             ...           ...         ...              ...   \n",
       "274       0               0             0           0                1   \n",
       "282       0               0             0           0                1   \n",
       "290       0               0             0           0                1   \n",
       "291       0               0             0           0                1   \n",
       "292       0               0             0           0                1   \n",
       "\n",
       "     ComputerVision  DataScience  BigData  Chatbot  R  BackendDev  \\\n",
       "1                 0            1        0        0  0           0   \n",
       "15                0            0        0        0  0           0   \n",
       "19                0            0        0        0  0           0   \n",
       "21                0            0        0        0  0           0   \n",
       "24                0            0        0        0  0           0   \n",
       "..              ...          ...      ...      ... ..         ...   \n",
       "274               1            0        0        0  0           0   \n",
       "282               0            0        1        0  0           0   \n",
       "290               0            0        0        0  0           0   \n",
       "291               0            0        0        0  0           0   \n",
       "292               0            0        0        0  0           0   \n",
       "\n",
       "     FrontendDev  Blockchain  \n",
       "1              0           0  \n",
       "15             0           0  \n",
       "19             0           0  \n",
       "21             0           0  \n",
       "24             0           0  \n",
       "..           ...         ...  \n",
       "274            0           0  \n",
       "282            0           0  \n",
       "290            0           0  \n",
       "291            0           0  \n",
       "292            0           0  \n",
       "\n",
       "[69 rows x 16 columns]"
      ]
     },
     "execution_count": 72,
     "metadata": {},
     "output_type": "execute_result"
    }
   ],
   "source": [
    "ml_courses = course_df[indexes]\n",
    "ml_courses"
   ]
  },
  {
   "cell_type": "markdown",
   "id": "ae0d2330-b118-4471-896b-43eb3fae8fe3",
   "metadata": {},
   "source": [
    "Similarly, you can try to find out what are the scalable machine learning courses?\n"
   ]
  },
  {
   "cell_type": "markdown",
   "id": "53ed1893-8062-451a-b6dd-85589a5ebdb9",
   "metadata": {},
   "source": [
    "_TODO: Find all courses with genres `MachineLearning` == 1 and `BigData` == 1_\n"
   ]
  },
  {
   "cell_type": "code",
   "execution_count": 75,
   "id": "03d17f6b-d036-4740-863b-000f2c4ab090",
   "metadata": {},
   "outputs": [
    {
     "data": {
      "text/html": [
       "<div>\n",
       "<style scoped>\n",
       "    .dataframe tbody tr th:only-of-type {\n",
       "        vertical-align: middle;\n",
       "    }\n",
       "\n",
       "    .dataframe tbody tr th {\n",
       "        vertical-align: top;\n",
       "    }\n",
       "\n",
       "    .dataframe thead th {\n",
       "        text-align: right;\n",
       "    }\n",
       "</style>\n",
       "<table border=\"1\" class=\"dataframe\">\n",
       "  <thead>\n",
       "    <tr style=\"text-align: right;\">\n",
       "      <th></th>\n",
       "      <th>COURSE_ID</th>\n",
       "      <th>TITLE</th>\n",
       "      <th>Database</th>\n",
       "      <th>Python</th>\n",
       "      <th>CloudComputing</th>\n",
       "      <th>DataAnalysis</th>\n",
       "      <th>Containers</th>\n",
       "      <th>MachineLearning</th>\n",
       "      <th>ComputerVision</th>\n",
       "      <th>DataScience</th>\n",
       "      <th>BigData</th>\n",
       "      <th>Chatbot</th>\n",
       "      <th>R</th>\n",
       "      <th>BackendDev</th>\n",
       "      <th>FrontendDev</th>\n",
       "      <th>Blockchain</th>\n",
       "    </tr>\n",
       "  </thead>\n",
       "  <tbody>\n",
       "    <tr>\n",
       "      <th>46</th>\n",
       "      <td>GPXX0BUBEN</td>\n",
       "      <td>insurance risk assessment with montecarlo meth...</td>\n",
       "      <td>0</td>\n",
       "      <td>0</td>\n",
       "      <td>0</td>\n",
       "      <td>0</td>\n",
       "      <td>0</td>\n",
       "      <td>1</td>\n",
       "      <td>0</td>\n",
       "      <td>0</td>\n",
       "      <td>1</td>\n",
       "      <td>0</td>\n",
       "      <td>0</td>\n",
       "      <td>0</td>\n",
       "      <td>0</td>\n",
       "      <td>0</td>\n",
       "    </tr>\n",
       "    <tr>\n",
       "      <th>59</th>\n",
       "      <td>TA0106EN</td>\n",
       "      <td>text analytics at scale</td>\n",
       "      <td>0</td>\n",
       "      <td>0</td>\n",
       "      <td>0</td>\n",
       "      <td>0</td>\n",
       "      <td>0</td>\n",
       "      <td>1</td>\n",
       "      <td>0</td>\n",
       "      <td>1</td>\n",
       "      <td>1</td>\n",
       "      <td>0</td>\n",
       "      <td>0</td>\n",
       "      <td>0</td>\n",
       "      <td>0</td>\n",
       "      <td>0</td>\n",
       "    </tr>\n",
       "    <tr>\n",
       "      <th>184</th>\n",
       "      <td>BD0221EN</td>\n",
       "      <td>spark mllib</td>\n",
       "      <td>0</td>\n",
       "      <td>0</td>\n",
       "      <td>0</td>\n",
       "      <td>0</td>\n",
       "      <td>0</td>\n",
       "      <td>1</td>\n",
       "      <td>0</td>\n",
       "      <td>0</td>\n",
       "      <td>1</td>\n",
       "      <td>0</td>\n",
       "      <td>0</td>\n",
       "      <td>0</td>\n",
       "      <td>0</td>\n",
       "      <td>0</td>\n",
       "    </tr>\n",
       "    <tr>\n",
       "      <th>282</th>\n",
       "      <td>excourse69</td>\n",
       "      <td>machine learning with big data</td>\n",
       "      <td>0</td>\n",
       "      <td>0</td>\n",
       "      <td>0</td>\n",
       "      <td>0</td>\n",
       "      <td>0</td>\n",
       "      <td>1</td>\n",
       "      <td>0</td>\n",
       "      <td>0</td>\n",
       "      <td>1</td>\n",
       "      <td>0</td>\n",
       "      <td>0</td>\n",
       "      <td>0</td>\n",
       "      <td>0</td>\n",
       "      <td>0</td>\n",
       "    </tr>\n",
       "  </tbody>\n",
       "</table>\n",
       "</div>"
      ],
      "text/plain": [
       "      COURSE_ID                                              TITLE  Database  \\\n",
       "46   GPXX0BUBEN  insurance risk assessment with montecarlo meth...         0   \n",
       "59     TA0106EN                            text analytics at scale         0   \n",
       "184    BD0221EN                                        spark mllib         0   \n",
       "282  excourse69                     machine learning with big data         0   \n",
       "\n",
       "     Python  CloudComputing  DataAnalysis  Containers  MachineLearning  \\\n",
       "46        0               0             0           0                1   \n",
       "59        0               0             0           0                1   \n",
       "184       0               0             0           0                1   \n",
       "282       0               0             0           0                1   \n",
       "\n",
       "     ComputerVision  DataScience  BigData  Chatbot  R  BackendDev  \\\n",
       "46                0            0        1        0  0           0   \n",
       "59                0            1        1        0  0           0   \n",
       "184               0            0        1        0  0           0   \n",
       "282               0            0        1        0  0           0   \n",
       "\n",
       "     FrontendDev  Blockchain  \n",
       "46             0           0  \n",
       "59             0           0  \n",
       "184            0           0  \n",
       "282            0           0  "
      ]
     },
     "execution_count": 75,
     "metadata": {},
     "output_type": "execute_result"
    }
   ],
   "source": [
    "index=ml_courses['BigData']==1\n",
    "ml_courses[index]"
   ]
  },
  {
   "cell_type": "code",
   "execution_count": 76,
   "id": "75676129-cf28-478f-8be5-f833d8603609",
   "metadata": {},
   "outputs": [
    {
     "data": {
      "text/plain": [
       "Index(['Database', 'Python', 'CloudComputing', 'DataAnalysis', 'Containers',\n",
       "       'MachineLearning', 'ComputerVision', 'DataScience', 'BigData',\n",
       "       'Chatbot', 'R', 'BackendDev', 'FrontendDev', 'Blockchain'],\n",
       "      dtype='object')"
      ]
     },
     "execution_count": 76,
     "metadata": {},
     "output_type": "execute_result"
    }
   ],
   "source": [
    "genres = course_df.columns[2:]\n",
    "genres"
   ]
  },
  {
   "cell_type": "markdown",
   "id": "95881770-ce4f-4938-a502-bb7cd9ea066d",
   "metadata": {},
   "source": [
    "Given all the course genres, now let's calculate the course count for each genre. e.g., there are 69 courses that belong to the `MachineLearning` genre and 23 courses that belong to the `Python` genre. We also want to sort the genre count list to find the most popular course genres.\n"
   ]
  },
  {
   "cell_type": "markdown",
   "id": "81ece138-c09a-45d0-83c3-9d9bf5e8d5a7",
   "metadata": {},
   "source": [
    "_TODO: Use the Pandas dataframe sum() and sort_values() methods to genreate a sorted course count per genre. You may also implement the task with different solutions_\n"
   ]
  },
  {
   "cell_type": "code",
   "execution_count": 155,
   "id": "3d5dc313-8760-412f-bc59-18bb6660f448",
   "metadata": {},
   "outputs": [
    {
     "data": {
      "text/html": [
       "<div>\n",
       "<style scoped>\n",
       "    .dataframe tbody tr th:only-of-type {\n",
       "        vertical-align: middle;\n",
       "    }\n",
       "\n",
       "    .dataframe tbody tr th {\n",
       "        vertical-align: top;\n",
       "    }\n",
       "\n",
       "    .dataframe thead th {\n",
       "        text-align: right;\n",
       "    }\n",
       "</style>\n",
       "<table border=\"1\" class=\"dataframe\">\n",
       "  <thead>\n",
       "    <tr style=\"text-align: right;\">\n",
       "      <th></th>\n",
       "      <th>genre</th>\n",
       "      <th>Count</th>\n",
       "    </tr>\n",
       "  </thead>\n",
       "  <tbody>\n",
       "    <tr>\n",
       "      <th>0</th>\n",
       "      <td>BackendDev</td>\n",
       "      <td>78</td>\n",
       "    </tr>\n",
       "    <tr>\n",
       "      <th>1</th>\n",
       "      <td>MachineLearning</td>\n",
       "      <td>69</td>\n",
       "    </tr>\n",
       "    <tr>\n",
       "      <th>2</th>\n",
       "      <td>Database</td>\n",
       "      <td>60</td>\n",
       "    </tr>\n",
       "    <tr>\n",
       "      <th>3</th>\n",
       "      <td>DataAnalysis</td>\n",
       "      <td>56</td>\n",
       "    </tr>\n",
       "    <tr>\n",
       "      <th>4</th>\n",
       "      <td>DataScience</td>\n",
       "      <td>38</td>\n",
       "    </tr>\n",
       "    <tr>\n",
       "      <th>5</th>\n",
       "      <td>CloudComputing</td>\n",
       "      <td>37</td>\n",
       "    </tr>\n",
       "    <tr>\n",
       "      <th>6</th>\n",
       "      <td>BigData</td>\n",
       "      <td>36</td>\n",
       "    </tr>\n",
       "    <tr>\n",
       "      <th>7</th>\n",
       "      <td>Python</td>\n",
       "      <td>28</td>\n",
       "    </tr>\n",
       "    <tr>\n",
       "      <th>8</th>\n",
       "      <td>FrontendDev</td>\n",
       "      <td>19</td>\n",
       "    </tr>\n",
       "    <tr>\n",
       "      <th>9</th>\n",
       "      <td>Containers</td>\n",
       "      <td>17</td>\n",
       "    </tr>\n",
       "    <tr>\n",
       "      <th>10</th>\n",
       "      <td>R</td>\n",
       "      <td>17</td>\n",
       "    </tr>\n",
       "    <tr>\n",
       "      <th>11</th>\n",
       "      <td>ComputerVision</td>\n",
       "      <td>10</td>\n",
       "    </tr>\n",
       "    <tr>\n",
       "      <th>12</th>\n",
       "      <td>Chatbot</td>\n",
       "      <td>4</td>\n",
       "    </tr>\n",
       "    <tr>\n",
       "      <th>13</th>\n",
       "      <td>Blockchain</td>\n",
       "      <td>4</td>\n",
       "    </tr>\n",
       "  </tbody>\n",
       "</table>\n",
       "</div>"
      ],
      "text/plain": [
       "              genre  Count\n",
       "0        BackendDev     78\n",
       "1   MachineLearning     69\n",
       "2          Database     60\n",
       "3      DataAnalysis     56\n",
       "4       DataScience     38\n",
       "5    CloudComputing     37\n",
       "6           BigData     36\n",
       "7            Python     28\n",
       "8       FrontendDev     19\n",
       "9        Containers     17\n",
       "10                R     17\n",
       "11   ComputerVision     10\n",
       "12          Chatbot      4\n",
       "13       Blockchain      4"
      ]
     },
     "execution_count": 155,
     "metadata": {},
     "output_type": "execute_result"
    }
   ],
   "source": [
    "count=pd.DataFrame(course_df[genres].sum(axis=0).sort_values(ascending=False),columns=['Count'])\n",
    "count.reset_index(inplace=True)\n",
    "count.rename(columns={'index':'genre'},inplace=True)\n",
    "count"
   ]
  },
  {
   "cell_type": "markdown",
   "id": "f7c5cfe4-8512-4136-9bb1-e33c91344991",
   "metadata": {},
   "source": [
    "We can also visualize course genre counts using a bar chart:\n"
   ]
  },
  {
   "cell_type": "markdown",
   "id": "99a7b0d6-86e7-465a-915e-f656b9b1bdee",
   "metadata": {},
   "source": [
    "_TODO: Use seaborn barplot or other plot methods to plot course genre counts using a barchart. The x-axis is the course genre and the y-axis is the course count per genre._\n"
   ]
  },
  {
   "cell_type": "code",
   "execution_count": 156,
   "id": "74c90586-a523-47f0-a0d5-43eaa1d333e3",
   "metadata": {},
   "outputs": [
    {
     "data": {
      "image/png": "[encoded data removed]",
      "text/plain": [
       "<Figure size 640x480 with 1 Axes>"
      ]
     },
     "metadata": {},
     "output_type": "display_data"
    }
   ],
   "source": [
    "sns.barplot(x='genre',y='Count',data=count)\n",
    "plt.xticks(rotation=90)\n",
    "plt.show()"
   ]
  },
  {
   "cell_type": "markdown",
   "id": "d8aa9b78-6517-4189-bf33-2b006c868c7c",
   "metadata": {},
   "source": [
    "Now, you should have some solid understanding about all course metadata including the keywords in titles and popular course genres. Next, we will switch gears to exploring course learners related datasets.\n"
   ]
  },
  {
   "cell_type": "markdown",
   "id": "f45a0ccc-987a-4356-aea0-2ed4f32051f6",
   "metadata": {},
   "source": [
    "###  TASK: Analyze Course Enrollments\n"
   ]
  },
  {
   "cell_type": "markdown",
   "id": "2b784abd-d57d-4228-bf4c-444d0b74a1df",
   "metadata": {},
   "source": [
    "Let's first take a look at the course enrollments dataset.\n"
   ]
  },
  {
   "cell_type": "code",
   "execution_count": 157,
   "id": "730444e9-d040-47f8-bcbf-e76a7ac83dae",
   "metadata": {},
   "outputs": [
    {
     "data": {
      "text/html": [
       "<div>\n",
       "<style scoped>\n",
       "    .dataframe tbody tr th:only-of-type {\n",
       "        vertical-align: middle;\n",
       "    }\n",
       "\n",
       "    .dataframe tbody tr th {\n",
       "        vertical-align: top;\n",
       "    }\n",
       "\n",
       "    .dataframe thead th {\n",
       "        text-align: right;\n",
       "    }\n",
       "</style>\n",
       "<table border=\"1\" class=\"dataframe\">\n",
       "  <thead>\n",
       "    <tr style=\"text-align: right;\">\n",
       "      <th></th>\n",
       "      <th>user</th>\n",
       "      <th>item</th>\n",
       "      <th>rating</th>\n",
       "    </tr>\n",
       "  </thead>\n",
       "  <tbody>\n",
       "    <tr>\n",
       "      <th>0</th>\n",
       "      <td>1889878</td>\n",
       "      <td>CC0101EN</td>\n",
       "      <td>5</td>\n",
       "    </tr>\n",
       "    <tr>\n",
       "      <th>1</th>\n",
       "      <td>1342067</td>\n",
       "      <td>CL0101EN</td>\n",
       "      <td>3</td>\n",
       "    </tr>\n",
       "    <tr>\n",
       "      <th>2</th>\n",
       "      <td>1990814</td>\n",
       "      <td>ML0120ENv3</td>\n",
       "      <td>5</td>\n",
       "    </tr>\n",
       "    <tr>\n",
       "      <th>3</th>\n",
       "      <td>380098</td>\n",
       "      <td>BD0211EN</td>\n",
       "      <td>5</td>\n",
       "    </tr>\n",
       "    <tr>\n",
       "      <th>4</th>\n",
       "      <td>779563</td>\n",
       "      <td>DS0101EN</td>\n",
       "      <td>3</td>\n",
       "    </tr>\n",
       "  </tbody>\n",
       "</table>\n",
       "</div>"
      ],
      "text/plain": [
       "      user        item  rating\n",
       "0  1889878    CC0101EN       5\n",
       "1  1342067    CL0101EN       3\n",
       "2  1990814  ML0120ENv3       5\n",
       "3   380098    BD0211EN       5\n",
       "4   779563    DS0101EN       3"
      ]
     },
     "execution_count": 157,
     "metadata": {},
     "output_type": "execute_result"
    }
   ],
   "source": [
    "ratings_df.head()"
   ]
  },
  {
   "cell_type": "markdown",
   "id": "2db329df-3fa0-485a-9f5c-166f046daace",
   "metadata": {},
   "source": [
    "This dataset contains three colums, `user` representing a unique user id, `item` representing a course id, and `rating` representing the ratings given by the user.\n"
   ]
  },
  {
   "cell_type": "code",
   "execution_count": 158,
   "id": "cc99e089-7bad-4301-b19e-ff7557d0c3f7",
   "metadata": {},
   "outputs": [
    {
     "data": {
      "text/plain": [
       "array([5, 3, 4])"
      ]
     },
     "execution_count": 158,
     "metadata": {},
     "output_type": "execute_result"
    }
   ],
   "source": [
    "ratings_df['rating'].unique()"
   ]
  },
  {
   "cell_type": "markdown",
   "id": "cec345f9-c11b-4b04-9fe4-0a0545ccacd5",
   "metadata": {},
   "source": [
    "The **rating** column consists of three potential values: \n",
    "\n",
    "- A rating of <code>5</code> signifies that users who have enrolled in the course find it excellent and have given it the highest rating, thus recommending it to other learners. \n",
    "\n",
    "- A rating of <code>4</code>, indicates that the enrolled users perceive the course as good and will recommend to the other learners,but suggest minor improvements. \n",
    "\n",
    "- A rating of <code>3</code>indicates that enrolled users find the course below expectations and need significant modifications.\n"
   ]
  },
  {
   "cell_type": "markdown",
   "id": "4e9be1d2-dae8-4403-bf54-57d4d78c6d6f",
   "metadata": {},
   "source": [
    "Let's see how many ratings we have in the dataset:\n"
   ]
  },
  {
   "cell_type": "code",
   "execution_count": 159,
   "id": "062322c9-db34-4478-8330-cb678f9ec18d",
   "metadata": {},
   "outputs": [
    {
     "data": {
      "text/plain": [
       "233306"
      ]
     },
     "execution_count": 159,
     "metadata": {},
     "output_type": "execute_result"
    }
   ],
   "source": [
    "ratings_df.shape[0]"
   ]
  },
  {
   "cell_type": "markdown",
   "id": "ed30201e-6c43-4861-a9b9-dfd36ae04c24",
   "metadata": {},
   "source": [
    "We have 233306 enrollments. In fact, each user is likely to interact with multiple items so let's find the rating counts for each user:\n"
   ]
  },
  {
   "cell_type": "markdown",
   "id": "28c2e7b7-7ab5-4ec2-9d50-f37c573b8667",
   "metadata": {},
   "source": [
    "_TODO: Apply Pandas' groupby() and size() method on the user column to aggregate the rating count for each user, then report the total number of users after aggregation._\n"
   ]
  },
  {
   "cell_type": "code",
   "execution_count": 160,
   "id": "7476c7b0-bb3a-4088-88ef-edae092ece63",
   "metadata": {},
   "outputs": [
    {
     "data": {
      "text/html": [
       "<div>\n",
       "<style scoped>\n",
       "    .dataframe tbody tr th:only-of-type {\n",
       "        vertical-align: middle;\n",
       "    }\n",
       "\n",
       "    .dataframe tbody tr th {\n",
       "        vertical-align: top;\n",
       "    }\n",
       "\n",
       "    .dataframe thead th {\n",
       "        text-align: right;\n",
       "    }\n",
       "</style>\n",
       "<table border=\"1\" class=\"dataframe\">\n",
       "  <thead>\n",
       "    <tr style=\"text-align: right;\">\n",
       "      <th></th>\n",
       "      <th>counts</th>\n",
       "    </tr>\n",
       "    <tr>\n",
       "      <th>user</th>\n",
       "      <th></th>\n",
       "    </tr>\n",
       "  </thead>\n",
       "  <tbody>\n",
       "    <tr>\n",
       "      <th>2</th>\n",
       "      <td>61</td>\n",
       "    </tr>\n",
       "    <tr>\n",
       "      <th>4</th>\n",
       "      <td>44</td>\n",
       "    </tr>\n",
       "    <tr>\n",
       "      <th>5</th>\n",
       "      <td>59</td>\n",
       "    </tr>\n",
       "    <tr>\n",
       "      <th>7</th>\n",
       "      <td>1</td>\n",
       "    </tr>\n",
       "    <tr>\n",
       "      <th>8</th>\n",
       "      <td>3</td>\n",
       "    </tr>\n",
       "    <tr>\n",
       "      <th>...</th>\n",
       "      <td>...</td>\n",
       "    </tr>\n",
       "    <tr>\n",
       "      <th>2102054</th>\n",
       "      <td>8</td>\n",
       "    </tr>\n",
       "    <tr>\n",
       "      <th>2102356</th>\n",
       "      <td>1</td>\n",
       "    </tr>\n",
       "    <tr>\n",
       "      <th>2102680</th>\n",
       "      <td>11</td>\n",
       "    </tr>\n",
       "    <tr>\n",
       "      <th>2102983</th>\n",
       "      <td>1</td>\n",
       "    </tr>\n",
       "    <tr>\n",
       "      <th>2103039</th>\n",
       "      <td>1</td>\n",
       "    </tr>\n",
       "  </tbody>\n",
       "</table>\n",
       "<p>33901 rows × 1 columns</p>\n",
       "</div>"
      ],
      "text/plain": [
       "         counts\n",
       "user           \n",
       "2            61\n",
       "4            44\n",
       "5            59\n",
       "7             1\n",
       "8             3\n",
       "...         ...\n",
       "2102054       8\n",
       "2102356       1\n",
       "2102680      11\n",
       "2102983       1\n",
       "2103039       1\n",
       "\n",
       "[33901 rows x 1 columns]"
      ]
     },
     "execution_count": 160,
     "metadata": {},
     "output_type": "execute_result"
    }
   ],
   "source": [
    "rating_counts=ratings_df.groupby('user').size().to_frame(name='counts')\n",
    "rating_counts"
   ]
  },
  {
   "cell_type": "markdown",
   "id": "6bdb5195-1fe5-4c25-b86c-ad9360dac5c3",
   "metadata": {},
   "source": [
    "After the aggregation, you should get a new dataframe showing the rating count for each user. For example, user 4 rated 44 items and user 2 rated 61 items. Next, let's try to get some summary statistics and visualizations from the user ratings count dataframe.\n"
   ]
  },
  {
   "cell_type": "markdown",
   "id": "2920a3ca-5c93-403f-9f10-fac1f87c0960",
   "metadata": {},
   "source": [
    "_TODO: Use describe() to report the statistics summary of the user enrollments._\n"
   ]
  },
  {
   "cell_type": "code",
   "execution_count": 161,
   "id": "5b28091e-8aab-4e3d-9654-9531919ef8b3",
   "metadata": {},
   "outputs": [
    {
     "data": {
      "text/html": [
       "<div>\n",
       "<style scoped>\n",
       "    .dataframe tbody tr th:only-of-type {\n",
       "        vertical-align: middle;\n",
       "    }\n",
       "\n",
       "    .dataframe tbody tr th {\n",
       "        vertical-align: top;\n",
       "    }\n",
       "\n",
       "    .dataframe thead th {\n",
       "        text-align: right;\n",
       "    }\n",
       "</style>\n",
       "<table border=\"1\" class=\"dataframe\">\n",
       "  <thead>\n",
       "    <tr style=\"text-align: right;\">\n",
       "      <th></th>\n",
       "      <th>user</th>\n",
       "      <th>rating</th>\n",
       "    </tr>\n",
       "  </thead>\n",
       "  <tbody>\n",
       "    <tr>\n",
       "      <th>count</th>\n",
       "      <td>2.333060e+05</td>\n",
       "      <td>233306.000000</td>\n",
       "    </tr>\n",
       "    <tr>\n",
       "      <th>mean</th>\n",
       "      <td>1.099162e+06</td>\n",
       "      <td>3.998448</td>\n",
       "    </tr>\n",
       "    <tr>\n",
       "      <th>std</th>\n",
       "      <td>4.771661e+05</td>\n",
       "      <td>0.816058</td>\n",
       "    </tr>\n",
       "    <tr>\n",
       "      <th>min</th>\n",
       "      <td>2.000000e+00</td>\n",
       "      <td>3.000000</td>\n",
       "    </tr>\n",
       "    <tr>\n",
       "      <th>25%</th>\n",
       "      <td>7.210400e+05</td>\n",
       "      <td>3.000000</td>\n",
       "    </tr>\n",
       "    <tr>\n",
       "      <th>50%</th>\n",
       "      <td>1.080061e+06</td>\n",
       "      <td>4.000000</td>\n",
       "    </tr>\n",
       "    <tr>\n",
       "      <th>75%</th>\n",
       "      <td>1.466616e+06</td>\n",
       "      <td>5.000000</td>\n",
       "    </tr>\n",
       "    <tr>\n",
       "      <th>max</th>\n",
       "      <td>2.103039e+06</td>\n",
       "      <td>5.000000</td>\n",
       "    </tr>\n",
       "  </tbody>\n",
       "</table>\n",
       "</div>"
      ],
      "text/plain": [
       "               user         rating\n",
       "count  2.333060e+05  233306.000000\n",
       "mean   1.099162e+06       3.998448\n",
       "std    4.771661e+05       0.816058\n",
       "min    2.000000e+00       3.000000\n",
       "25%    7.210400e+05       3.000000\n",
       "50%    1.080061e+06       4.000000\n",
       "75%    1.466616e+06       5.000000\n",
       "max    2.103039e+06       5.000000"
      ]
     },
     "execution_count": 161,
     "metadata": {},
     "output_type": "execute_result"
    }
   ],
   "source": [
    "ratings_df.describe()"
   ]
  },
  {
   "cell_type": "markdown",
   "id": "9f70a8f3-d914-4102-bca0-2b060d9a1ee6",
   "metadata": {},
   "source": [
    "We can also get a histogram showing the enrollment distributions, e.g., how many users rated just 1 item or how many rated 10 items, etc.\n"
   ]
  },
  {
   "cell_type": "markdown",
   "id": "6a2bc14d-f3ad-48d3-85db-9ec7eea84a7c",
   "metadata": {},
   "source": [
    "_TODO: Plot the histogram of user rating counts._\n"
   ]
  },
  {
   "cell_type": "code",
   "execution_count": 162,
   "id": "f6cbaefa-b9ad-4411-891b-cf3d1b4e3bd6",
   "metadata": {},
   "outputs": [
    {
     "data": {
      "text/plain": [
       "<Axes: ylabel='Frequency'>"
      ]
     },
     "execution_count": 162,
     "metadata": {},
     "output_type": "execute_result"
    },
    {
     "data": {
      "image/png": "[encoded data removed]",
      "text/plain": [
       "<Figure size 640x480 with 1 Axes>"
      ]
     },
     "metadata": {},
     "output_type": "display_data"
    }
   ],
   "source": [
    "rating_counts.plot.hist(bins=50)"
   ]
  },
  {
   "cell_type": "markdown",
   "id": "f5ec85b7-9dab-4df4-bd19-5e8c4580571b",
   "metadata": {},
   "source": [
    "### Task: Find the Top-20 Most Popular Courses\n"
   ]
  },
  {
   "cell_type": "markdown",
   "id": "75755e01-7056-43d8-b76e-b14c66d0e49e",
   "metadata": {},
   "source": [
    "Now we know how many items each user rated. Let's see the most popular 20 courses, i.e., items with the most rating counts.\n"
   ]
  },
  {
   "cell_type": "markdown",
   "id": "2eb0b66c-44bb-4dae-894f-c4e15e819204",
   "metadata": {},
   "source": [
    "_TODO: Use Pandas groupby() and size() methods on the item column to aggregate the rating count for each item, then use the sort_values() method to sort the course enrollment count, and use the slice method to get the top 20 courses. You may also implement this task with different solutions_\n"
   ]
  },
  {
   "cell_type": "code",
   "execution_count": 163,
   "id": "7eef915a-e8e6-4898-bdd0-022110ca4879",
   "metadata": {},
   "outputs": [],
   "source": [
    "ratings_df=ratings_df.groupby('item').size().reset_index()"
   ]
  },
  {
   "cell_type": "code",
   "execution_count": 164,
   "id": "17c73ffe-cf14-4082-a461-9b48cb5823d8",
   "metadata": {},
   "outputs": [],
   "source": [
    "ratings_df.columns=['course', 'Ratings']"
   ]
  },
  {
   "cell_type": "code",
   "execution_count": 167,
   "id": "0961bda3-8b46-4a53-8cef-b9863cb627e6",
   "metadata": {},
   "outputs": [
    {
     "data": {
      "text/html": [
       "<div>\n",
       "<style scoped>\n",
       "    .dataframe tbody tr th:only-of-type {\n",
       "        vertical-align: middle;\n",
       "    }\n",
       "\n",
       "    .dataframe tbody tr th {\n",
       "        vertical-align: top;\n",
       "    }\n",
       "\n",
       "    .dataframe thead th {\n",
       "        text-align: right;\n",
       "    }\n",
       "</style>\n",
       "<table border=\"1\" class=\"dataframe\">\n",
       "  <thead>\n",
       "    <tr style=\"text-align: right;\">\n",
       "      <th></th>\n",
       "      <th>course</th>\n",
       "      <th>Ratings</th>\n",
       "    </tr>\n",
       "  </thead>\n",
       "  <tbody>\n",
       "    <tr>\n",
       "      <th>0</th>\n",
       "      <td>PY0101EN</td>\n",
       "      <td>14936</td>\n",
       "    </tr>\n",
       "    <tr>\n",
       "      <th>1</th>\n",
       "      <td>DS0101EN</td>\n",
       "      <td>14477</td>\n",
       "    </tr>\n",
       "    <tr>\n",
       "      <th>2</th>\n",
       "      <td>BD0101EN</td>\n",
       "      <td>13291</td>\n",
       "    </tr>\n",
       "    <tr>\n",
       "      <th>3</th>\n",
       "      <td>BD0111EN</td>\n",
       "      <td>10599</td>\n",
       "    </tr>\n",
       "    <tr>\n",
       "      <th>4</th>\n",
       "      <td>DA0101EN</td>\n",
       "      <td>8303</td>\n",
       "    </tr>\n",
       "    <tr>\n",
       "      <th>5</th>\n",
       "      <td>DS0103EN</td>\n",
       "      <td>7719</td>\n",
       "    </tr>\n",
       "    <tr>\n",
       "      <th>6</th>\n",
       "      <td>ML0101ENv3</td>\n",
       "      <td>7644</td>\n",
       "    </tr>\n",
       "    <tr>\n",
       "      <th>7</th>\n",
       "      <td>BD0211EN</td>\n",
       "      <td>7551</td>\n",
       "    </tr>\n",
       "    <tr>\n",
       "      <th>8</th>\n",
       "      <td>DS0105EN</td>\n",
       "      <td>7199</td>\n",
       "    </tr>\n",
       "    <tr>\n",
       "      <th>9</th>\n",
       "      <td>BC0101EN</td>\n",
       "      <td>6719</td>\n",
       "    </tr>\n",
       "    <tr>\n",
       "      <th>10</th>\n",
       "      <td>DV0101EN</td>\n",
       "      <td>6709</td>\n",
       "    </tr>\n",
       "    <tr>\n",
       "      <th>11</th>\n",
       "      <td>ML0115EN</td>\n",
       "      <td>6323</td>\n",
       "    </tr>\n",
       "    <tr>\n",
       "      <th>12</th>\n",
       "      <td>CB0103EN</td>\n",
       "      <td>5512</td>\n",
       "    </tr>\n",
       "    <tr>\n",
       "      <th>13</th>\n",
       "      <td>RP0101EN</td>\n",
       "      <td>5237</td>\n",
       "    </tr>\n",
       "    <tr>\n",
       "      <th>14</th>\n",
       "      <td>ST0101EN</td>\n",
       "      <td>5015</td>\n",
       "    </tr>\n",
       "    <tr>\n",
       "      <th>15</th>\n",
       "      <td>CC0101EN</td>\n",
       "      <td>4983</td>\n",
       "    </tr>\n",
       "    <tr>\n",
       "      <th>16</th>\n",
       "      <td>CO0101EN</td>\n",
       "      <td>4480</td>\n",
       "    </tr>\n",
       "    <tr>\n",
       "      <th>17</th>\n",
       "      <td>DB0101EN</td>\n",
       "      <td>3697</td>\n",
       "    </tr>\n",
       "    <tr>\n",
       "      <th>18</th>\n",
       "      <td>BD0115EN</td>\n",
       "      <td>3670</td>\n",
       "    </tr>\n",
       "    <tr>\n",
       "      <th>19</th>\n",
       "      <td>DS0301EN</td>\n",
       "      <td>3624</td>\n",
       "    </tr>\n",
       "  </tbody>\n",
       "</table>\n",
       "</div>"
      ],
      "text/plain": [
       "        course  Ratings\n",
       "0     PY0101EN    14936\n",
       "1     DS0101EN    14477\n",
       "2     BD0101EN    13291\n",
       "3     BD0111EN    10599\n",
       "4     DA0101EN     8303\n",
       "5     DS0103EN     7719\n",
       "6   ML0101ENv3     7644\n",
       "7     BD0211EN     7551\n",
       "8     DS0105EN     7199\n",
       "9     BC0101EN     6719\n",
       "10    DV0101EN     6709\n",
       "11    ML0115EN     6323\n",
       "12    CB0103EN     5512\n",
       "13    RP0101EN     5237\n",
       "14    ST0101EN     5015\n",
       "15    CC0101EN     4983\n",
       "16    CO0101EN     4480\n",
       "17    DB0101EN     3697\n",
       "18    BD0115EN     3670\n",
       "19    DS0301EN     3624"
      ]
     },
     "execution_count": 167,
     "metadata": {},
     "output_type": "execute_result"
    }
   ],
   "source": [
    "ratings_df.sort_values(by='Ratings',ascending=False).reset_index(drop=True).head(20)"
   ]
  },
  {
   "cell_type": "markdown",
   "id": "75833719-9b92-4bb0-9148-aab370b70799",
   "metadata": {},
   "source": [
    "Now you may only see the item IDs which do not indicate what kind of courses they are. To make it more clear, we need to join the course titles in the course metadata dataset (`course_df`) so that we can identify what the most popular courses are immediately:\n"
   ]
  },
  {
   "cell_type": "markdown",
   "id": "bbd599da-4d78-4215-89de-995699d16b13",
   "metadata": {},
   "source": [
    "_TODO: Use Pandas merge() method to join the course_df (contains the course title column)._\n"
   ]
  },
  {
   "cell_type": "code",
   "execution_count": 188,
   "id": "55f25ebf-fbab-43f1-ade6-18691ab1d1c9",
   "metadata": {},
   "outputs": [
    {
     "data": {
      "text/html": [
       "<div>\n",
       "<style scoped>\n",
       "    .dataframe tbody tr th:only-of-type {\n",
       "        vertical-align: middle;\n",
       "    }\n",
       "\n",
       "    .dataframe tbody tr th {\n",
       "        vertical-align: top;\n",
       "    }\n",
       "\n",
       "    .dataframe thead th {\n",
       "        text-align: right;\n",
       "    }\n",
       "</style>\n",
       "<table border=\"1\" class=\"dataframe\">\n",
       "  <thead>\n",
       "    <tr style=\"text-align: right;\">\n",
       "      <th></th>\n",
       "      <th>TITLE</th>\n",
       "      <th>Ratings</th>\n",
       "    </tr>\n",
       "  </thead>\n",
       "  <tbody>\n",
       "    <tr>\n",
       "      <th>0</th>\n",
       "      <td>python for data science</td>\n",
       "      <td>14936</td>\n",
       "    </tr>\n",
       "    <tr>\n",
       "      <th>1</th>\n",
       "      <td>introduction to data science</td>\n",
       "      <td>14477</td>\n",
       "    </tr>\n",
       "    <tr>\n",
       "      <th>2</th>\n",
       "      <td>big data 101</td>\n",
       "      <td>13291</td>\n",
       "    </tr>\n",
       "    <tr>\n",
       "      <th>3</th>\n",
       "      <td>hadoop 101</td>\n",
       "      <td>10599</td>\n",
       "    </tr>\n",
       "    <tr>\n",
       "      <th>4</th>\n",
       "      <td>data analysis with python</td>\n",
       "      <td>8303</td>\n",
       "    </tr>\n",
       "    <tr>\n",
       "      <th>5</th>\n",
       "      <td>data science methodology</td>\n",
       "      <td>7719</td>\n",
       "    </tr>\n",
       "    <tr>\n",
       "      <th>6</th>\n",
       "      <td>machine learning with python</td>\n",
       "      <td>7644</td>\n",
       "    </tr>\n",
       "    <tr>\n",
       "      <th>7</th>\n",
       "      <td>spark fundamentals i</td>\n",
       "      <td>7551</td>\n",
       "    </tr>\n",
       "    <tr>\n",
       "      <th>8</th>\n",
       "      <td>data science hands on with open source tools</td>\n",
       "      <td>7199</td>\n",
       "    </tr>\n",
       "    <tr>\n",
       "      <th>9</th>\n",
       "      <td>blockchain essentials</td>\n",
       "      <td>6719</td>\n",
       "    </tr>\n",
       "    <tr>\n",
       "      <th>10</th>\n",
       "      <td>data visualization with python</td>\n",
       "      <td>6709</td>\n",
       "    </tr>\n",
       "    <tr>\n",
       "      <th>11</th>\n",
       "      <td>deep learning 101</td>\n",
       "      <td>6323</td>\n",
       "    </tr>\n",
       "    <tr>\n",
       "      <th>12</th>\n",
       "      <td>build your own chatbot</td>\n",
       "      <td>5512</td>\n",
       "    </tr>\n",
       "    <tr>\n",
       "      <th>13</th>\n",
       "      <td>r for data science</td>\n",
       "      <td>5237</td>\n",
       "    </tr>\n",
       "    <tr>\n",
       "      <th>14</th>\n",
       "      <td>statistics 101</td>\n",
       "      <td>5015</td>\n",
       "    </tr>\n",
       "    <tr>\n",
       "      <th>15</th>\n",
       "      <td>introduction to cloud</td>\n",
       "      <td>4983</td>\n",
       "    </tr>\n",
       "    <tr>\n",
       "      <th>16</th>\n",
       "      <td>docker essentials  a developer introduction</td>\n",
       "      <td>4480</td>\n",
       "    </tr>\n",
       "    <tr>\n",
       "      <th>17</th>\n",
       "      <td>sql and relational databases 101</td>\n",
       "      <td>3697</td>\n",
       "    </tr>\n",
       "    <tr>\n",
       "      <th>18</th>\n",
       "      <td>mapreduce and yarn</td>\n",
       "      <td>3670</td>\n",
       "    </tr>\n",
       "    <tr>\n",
       "      <th>19</th>\n",
       "      <td>data privacy fundamentals</td>\n",
       "      <td>3624</td>\n",
       "    </tr>\n",
       "  </tbody>\n",
       "</table>\n",
       "</div>"
      ],
      "text/plain": [
       "                                           TITLE  Ratings\n",
       "0                        python for data science    14936\n",
       "1                   introduction to data science    14477\n",
       "2                                   big data 101    13291\n",
       "3                                     hadoop 101    10599\n",
       "4                      data analysis with python     8303\n",
       "5                       data science methodology     7719\n",
       "6                   machine learning with python     7644\n",
       "7                           spark fundamentals i     7551\n",
       "8   data science hands on with open source tools     7199\n",
       "9                          blockchain essentials     6719\n",
       "10                data visualization with python     6709\n",
       "11                             deep learning 101     6323\n",
       "12                        build your own chatbot     5512\n",
       "13                            r for data science     5237\n",
       "14                                statistics 101     5015\n",
       "15                         introduction to cloud     4983\n",
       "16   docker essentials  a developer introduction     4480\n",
       "17              sql and relational databases 101     3697\n",
       "18                            mapreduce and yarn     3670\n",
       "19                     data privacy fundamentals     3624"
      ]
     },
     "execution_count": 188,
     "metadata": {},
     "output_type": "execute_result"
    }
   ],
   "source": [
    "merge=pd.merge(course_df[['COURSE_ID', 'TITLE']],ratings_df, how='right', left_on='COURSE_ID', right_on='course')\n",
    "enrollment=merge[['TITLE','Ratings']].sort_values(by='Ratings',ascending=False).reset_index(drop=True)\n",
    "top_20=enrollment.head(20)\n",
    "top_20"
   ]
  },
  {
   "cell_type": "markdown",
   "id": "13620a9f-7f5f-4769-94b7-b19373417522",
   "metadata": {},
   "source": [
    "It seems that those popular courses take a huge amount of total ratings. Let's find the exact percentage.\n"
   ]
  },
  {
   "cell_type": "code",
   "execution_count": 191,
   "id": "8a3504d6-fba8-45c3-a339-56c8609a127a",
   "metadata": {},
   "outputs": [
    {
     "data": {
      "text/plain": [
       "233306"
      ]
     },
     "execution_count": 191,
     "metadata": {},
     "output_type": "execute_result"
    }
   ],
   "source": [
    "# Get the total course enrollments again\n",
    "ratings_df = pd.read_csv(ratings_url)\n",
    "total = ratings_df.shape[0]\n",
    "total"
   ]
  },
  {
   "cell_type": "code",
   "execution_count": 195,
   "id": "f759144a-f894-456b-a609-e67577357e25",
   "metadata": {},
   "outputs": [
    {
     "data": {
      "text/plain": [
       "np.int64(147688)"
      ]
     },
     "execution_count": 195,
     "metadata": {},
     "output_type": "execute_result"
    }
   ],
   "source": [
    "top = top_20['Ratings'].values.sum()\n",
    "top"
   ]
  },
  {
   "cell_type": "code",
   "execution_count": 196,
   "id": "d227fb94-14ff-4bdf-91af-d4a03027e796",
   "metadata": {},
   "outputs": [
    {
     "name": "stdout",
     "output_type": "stream",
     "text": [
      "Percentage of the top course enrollments 63.3%\n"
     ]
    }
   ],
   "source": [
    "print(f\"Percentage of the top course enrollments {round((top * 100)/total, 2)}%\")"
   ]
  }
 ],
 "metadata": {
  "kernelspec": {
   "display_name": "Python 3 (ipykernel)",
   "language": "python",
   "name": "python3"
  },
  "language_info": {
   "codemirror_mode": {
    "name": "ipython",
    "version": 3
   },
   "file_extension": ".py",
   "mimetype": "text/x-python",
   "name": "python",
   "nbconvert_exporter": "python",
   "pygments_lexer": "ipython3",
   "version": "3.12.8"
  }
 },
 "nbformat": 4,
 "nbformat_minor": 5
}
